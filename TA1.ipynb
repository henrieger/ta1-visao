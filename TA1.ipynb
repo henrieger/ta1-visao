{
 "cells": [
  {
   "cell_type": "code",
   "execution_count": 1,
   "id": "86cf3f96-0c36-4677-8a5f-f79cd05ff916",
   "metadata": {
    "tags": []
   },
   "outputs": [],
   "source": [
    "import numpy as np\n",
    "import matplotlib.pyplot as plt\n",
    "import cv2 as cv\n",
    "import os\n",
    "\n",
    "import ipywidgets as widgets\n",
    "from ipywidgets import interact, interactive, IntSlider, FloatSlider"
   ]
  },
  {
   "cell_type": "code",
   "execution_count": 2,
   "id": "9bd53b38-e95b-4ee0-9e47-5b80b9bc5204",
   "metadata": {
    "tags": []
   },
   "outputs": [],
   "source": [
    "def get_img(path: str):\n",
    "    img = cv.imread(path, cv.IMREAD_GRAYSCALE)\n",
    "    return img"
   ]
  },
  {
   "cell_type": "code",
   "execution_count": 3,
   "id": "04c418ce-6f5a-42cb-9c98-339cbb495746",
   "metadata": {
    "tags": []
   },
   "outputs": [],
   "source": [
    "samples = os.listdir('img')"
   ]
  },
  {
   "cell_type": "code",
   "execution_count": 5,
   "id": "7754b68d-2fbc-4987-b541-73fc1fa5bad2",
   "metadata": {
    "tags": []
   },
   "outputs": [
    {
     "data": {
      "application/vnd.jupyter.widget-view+json": {
       "model_id": "7cbf5d5861484244a95488213df01ee4",
       "version_major": 2,
       "version_minor": 0
      },
      "text/plain": [
       "interactive(children=(Dropdown(description='sample', options=('Catalogo_fosseis_PontaGrossa-64.png', 'Catalogo…"
      ]
     },
     "execution_count": 5,
     "metadata": {},
     "output_type": "execute_result"
    }
   ],
   "source": [
    "def gamma_correction(img, gamma):\n",
    "    invGamma = 1 / gamma\n",
    "\n",
    "    table = [((i / 255) ** invGamma) * 255 for i in range(256)]\n",
    "    table = np.array(table, np.uint8)\n",
    "\n",
    "    return cv.LUT(img, table)\n",
    "\n",
    "def test_gamma(sample, gamma):\n",
    "    img = get_img(f'img/{sample}')\n",
    "    gc = gamma_correction(img, gamma)\n",
    "    plt.imshow(gc, 'gray')\n",
    "    \n",
    "interactive(test_gamma, sample=samples, gamma=FloatSlider(min=0, max=5, value=2.2))"
   ]
  },
  {
   "cell_type": "code",
   "execution_count": 6,
   "id": "3a7c38dd-2547-44db-ac74-54dcac8f1028",
   "metadata": {
    "tags": []
   },
   "outputs": [
    {
     "data": {
      "application/vnd.jupyter.widget-view+json": {
       "model_id": "70dc1554534f4eebb18ea4d77fd6ac21",
       "version_major": 2,
       "version_minor": 0
      },
      "text/plain": [
       "interactive(children=(Dropdown(description='sample', options=('Catalogo_fosseis_PontaGrossa-64.png', 'Catalogo…"
      ]
     },
     "execution_count": 6,
     "metadata": {},
     "output_type": "execute_result"
    }
   ],
   "source": [
    "def threshold(img, thresh):\n",
    "    return cv.threshold(img, thresh, 255, cv.THRESH_BINARY)\n",
    "    \n",
    "def test_threshold(sample, thresh):\n",
    "    img = get_img(f'img/{sample}')\n",
    "    th, dst = threshold(img, thresh)\n",
    "    fig, axes = plt.subplots(1, 2)\n",
    "    axes[0].imshow(img, 'gray')\n",
    "    axes[1].imshow(dst, 'gray')\n",
    "    \n",
    "interactive(test_threshold, sample=samples, thresh=IntSlider(min=0, max=255, value=100))"
   ]
  },
  {
   "cell_type": "code",
   "execution_count": 7,
   "id": "7bb7d02f-879e-418f-90e1-acb70dc166bf",
   "metadata": {
    "tags": []
   },
   "outputs": [
    {
     "data": {
      "application/vnd.jupyter.widget-view+json": {
       "model_id": "641e018c589d4edb99d61b0a9f670a31",
       "version_major": 2,
       "version_minor": 0
      },
      "text/plain": [
       "interactive(children=(Dropdown(description='sample', options=('Catalogo_fosseis_PontaGrossa-64.png', 'Catalogo…"
      ]
     },
     "metadata": {},
     "output_type": "display_data"
    },
    {
     "data": {
      "text/plain": [
       "<function __main__.test_edges(sample, minimum, maximum, aperture, l2_gradient)>"
      ]
     },
     "execution_count": 7,
     "metadata": {},
     "output_type": "execute_result"
    }
   ],
   "source": [
    "def edges(img, minimum, maximum, aperture, l2_gradient):\n",
    "    return cv.Canny(img, minimum, maximum, apertureSize = aperture, L2gradient=l2_gradient)\n",
    "\n",
    "#     plt.subplot(121), plt.imshow(img, 'gray')\n",
    "#     plt.xticks([]), plt.yticks([])\n",
    "#     plt.title('Imagem original')\n",
    "\n",
    "#     plt.subplot(122), plt.imshow(edges, 'gray')\n",
    "#     plt.xticks([]), plt.yticks([])\n",
    "#     plt.title('Detecção de bordas')\n",
    "\n",
    "#     plt.show()\n",
    "    \n",
    "def test_edges(sample, minimum, maximum, aperture, l2_gradient):\n",
    "    img = get_img(f'img/{sample}')\n",
    "    edg = edges(img, minimum, maximum, aperture, l2_gradient)\n",
    "    plt.imshow(edg, 'gray')\n",
    "    \n",
    "interact(test_edges, sample=samples, minimum=(0, 255), maximum=(0, 255), aperture=IntSlider(min=3, max=7, step=2, value=3), l2_gradient=False)"
   ]
  },
  {
   "cell_type": "code",
   "execution_count": 9,
   "id": "e432de74-f9bd-4d9c-ada9-bd7652fef1c4",
   "metadata": {
    "tags": []
   },
   "outputs": [
    {
     "data": {
      "application/vnd.jupyter.widget-view+json": {
       "model_id": "df93808ef3354e49aa81feecf4309bd2",
       "version_major": 2,
       "version_minor": 0
      },
      "text/plain": [
       "interactive(children=(Dropdown(description='sample', options=('Catalogo_fosseis_PontaGrossa-64.png', 'Catalogo…"
      ]
     },
     "metadata": {},
     "output_type": "display_data"
    },
    {
     "data": {
      "text/plain": [
       "<function __main__.generate(sample, thresh, gamma, edge_min, edge_max, aperture, l2_gradient)>"
      ]
     },
     "execution_count": 9,
     "metadata": {},
     "output_type": "execute_result"
    }
   ],
   "source": [
    "def invert(img):\n",
    "    return (255-img)\n",
    "\n",
    "def generate(sample, thresh, gamma, edge_min, edge_max, aperture, l2_gradient):\n",
    "    img = get_img(f'img/{sample}')\n",
    "    gamma = gamma_correction(img, gamma)\n",
    "    th, dst = threshold(gamma, thresh)    \n",
    "    edg = edges(gamma, edge_min, edge_max, aperture, l2_gradient)\n",
    "    \n",
    "    plt.subplot(221)\n",
    "    plt.title('Imagem Original')\n",
    "    plt.xticks([]), plt.yticks([])\n",
    "    plt.imshow(img, 'gray')\n",
    "    \n",
    "    plt.subplot(222)\n",
    "    plt.title('Gama aplicado')\n",
    "    plt.xticks([]), plt.yticks([])\n",
    "    plt.imshow(gamma, 'gray')\n",
    "    \n",
    "    plt.subplot(223)\n",
    "    plt.title('Gama + Threshold (Invertido)')\n",
    "    plt.xticks([]), plt.yticks([])\n",
    "    plt.imshow(invert(dst), 'gray')\n",
    "    \n",
    "    plt.subplot(224)\n",
    "    plt.title('Gama + Canny')\n",
    "    plt.xticks([]), plt.yticks([])\n",
    "    plt.imshow(edg, 'gray')\n",
    "    \n",
    "interact(\n",
    "    generate,\n",
    "    sample=samples,\n",
    "    thresh=(0, 255),\n",
    "    gamma=FloatSlider(min=0.01, max=5, value=2.2),\n",
    "    edge_min=(0, 255),\n",
    "    edge_max=(0, 255),\n",
    "    aperture=IntSlider(min=3, max=7, step=2, value=3),\n",
    "    l2_gradient=True\n",
    ")"
   ]
  }
 ],
 "metadata": {
  "kernelspec": {
   "display_name": "Python 3 (ipykernel)",
   "language": "python",
   "name": "python3"
  },
  "language_info": {
   "codemirror_mode": {
    "name": "ipython",
    "version": 3
   },
   "file_extension": ".py",
   "mimetype": "text/x-python",
   "name": "python",
   "nbconvert_exporter": "python",
   "pygments_lexer": "ipython3",
   "version": "3.9.5"
  }
 },
 "nbformat": 4,
 "nbformat_minor": 5
}
