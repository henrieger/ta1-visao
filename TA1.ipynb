{
 "cells": [
  {
   "cell_type": "markdown",
   "id": "118153c2-d0f7-455c-a28a-20c13316dab7",
   "metadata": {},
   "source": [
    "# Detecção de bordas e limiares em fotografias de fósseis da Formação Ponta Grossa\n",
    "\n",
    "**Visão Computacional e Percepção - TA1**\n",
    "\n",
    "**Henrique Luiz Rieger - GRR20190357**\n",
    "\n",
    "\n",
    "## Introdução\n",
    "Este trabalho da disciplina de Visão Computacional e Percepção busca aplicar as técnicas básicas de manipulação de imagens vistas no começo do curso: aplicação de filtros, correções, limiares e detecção de bordas; utilizando como ferramenta a biblioteca OpenCV. Como aplicação prática, é proposta a utilização dessas técnicas em 54 fotografias de fósseis da Formação Ponta Grossa, pertencentes ao acervo do [LABPALEO-UFPR](http://www.labpaleo.ufpr.br). O propósito desta aplicação é testar a viabilidade de utilizar essas ferramentas como coletores de informação nos fósseis, a fim de criar um ambiente que permita a obtenção de características dos espécimes apresentados.\n",
    "\n",
    "## Métodos aplicados\n",
    "Para possibilitar a obtenção de caracteres nas fotografias de fósseis, diversas técnicas básicas de visão computacional foram aplicadas. Primeiramente, é aplicado um filtro bilateral, a fim de reduzir ruídos inerentes ao tipo de fotografia analisada. Depois, é aplicada uma correção de gama, de forma a tentar ressaltar alguns contornos mais suaves dos fósseis. Por fim, duas técnicas de separação do fóssil da matriz rochosa são paralelamente empregadas e seus resultados, comparados: um limiar (*threshold*) binário e o algoritmo de detecção de bordas de Canny.\n",
    "\n",
    "## Implementação\n",
    "Primeiramente, precisamos importar as bibliotecas que vamos usar para estes experimentos. A célula abaixo importa as bibliotecas NumPy, matplotlib, OpenCV (`cv2`), glob (para manipulação fácil de arquivos) e ipywidgets (para interação)."
   ]
  },
  {
   "cell_type": "code",
   "execution_count": 2,
   "id": "86cf3f96-0c36-4677-8a5f-f79cd05ff916",
   "metadata": {
    "tags": []
   },
   "outputs": [],
   "source": [
    "import numpy as np\n",
    "import matplotlib.pyplot as plt\n",
    "import cv2 as cv\n",
    "import glob\n",
    "\n",
    "import ipywidgets as widgets\n",
    "from ipywidgets import interact, interactive, IntSlider, FloatSlider"
   ]
  },
  {
   "cell_type": "markdown",
   "id": "4e56d176-c420-4a3f-b777-53d78e4cd05f",
   "metadata": {},
   "source": [
    "Agora, vamos definir uma função para importar uma imagem como um vetor de números, utilizando a biblioteca OpenCV. A função recebe como entrada um caminho para o arquivo a ser aberto."
   ]
  },
  {
   "cell_type": "code",
   "execution_count": 3,
   "id": "9bd53b38-e95b-4ee0-9e47-5b80b9bc5204",
   "metadata": {
    "tags": []
   },
   "outputs": [],
   "source": [
    "def get_img(path: str):\n",
    "    img = cv.imread(path, cv.IMREAD_GRAYSCALE)\n",
    "    return img"
   ]
  },
  {
   "cell_type": "markdown",
   "id": "088ec3c1-8f37-4f24-94ae-6fa8cf477443",
   "metadata": {},
   "source": [
    "Em seguida, utilizando a biblioteca glob, podemos obter uma lista de todos os nomes e caminhos de arquivos `.png` presentes no diretório `img`. Uma pequena prévia destes caminhos é usada para verificar a corretude da função."
   ]
  },
  {
   "cell_type": "code",
   "execution_count": 4,
   "id": "04c418ce-6f5a-42cb-9c98-339cbb495746",
   "metadata": {
    "tags": []
   },
   "outputs": [
    {
     "data": {
      "text/plain": [
       "['img/Catalogo_fosseis_PontaGrossa-10.png',\n",
       " 'img/Catalogo_fosseis_PontaGrossa-101.png',\n",
       " 'img/Catalogo_fosseis_PontaGrossa-102.png',\n",
       " 'img/Catalogo_fosseis_PontaGrossa-104.png',\n",
       " 'img/Catalogo_fosseis_PontaGrossa-105.png']"
      ]
     },
     "execution_count": 4,
     "metadata": {},
     "output_type": "execute_result"
    }
   ],
   "source": [
    "samples = glob.glob(r'img/*.png')\n",
    "samples.sort()\n",
    "samples[0:5]"
   ]
  },
  {
   "cell_type": "markdown",
   "id": "ba2eb919-3044-4d2e-a4e4-45dfd8edf172",
   "metadata": {},
   "source": [
    "Vamos então definir algumas funções para encapsular as operações da biblioteca OpenCV em chamadas mais simples.\n",
    "\n",
    "Primeiramente, definimos a função `bilateral_filter`, que devolve a imagem de entrada com um filtro bilateral aplicado. Esse filtro foi selecionado pois possui a excelente propriedade de eliminar ruídos de alta frequência enquanto mantém a consistência das bordas, sem borrá-las muito. Isto se fez necessário pois a matriz rochosa na qual o fóssil está inserido é bastante irregular, introduzindo muitas sombras e contornos pequenos que atrapalham na detecção das bordas do ser vivo preservado. Dessa forma, podemos eliminar boa parte dessa textura, permitindo que os algoritmos de detecção foquem em procurar apenas a informação desejada.\n",
    "\n",
    "Abaixo, podemos ver um teste desta função aplicada a um fóssil de [[algum fóssil]]"
   ]
  },
  {
   "cell_type": "code",
   "execution_count": 7,
   "id": "7578a730-d6cc-4e32-941f-ab2dac85e2cd",
   "metadata": {
    "tags": []
   },
   "outputs": [
    {
     "data": {
      "application/vnd.jupyter.widget-view+json": {
       "model_id": "f7efcb15ecfe4a8c8357bd8dc154bbba",
       "version_major": 2,
       "version_minor": 0
      },
      "text/plain": [
       "interactive(children=(Dropdown(description='sample', options=('img/Catalogo_fosseis_PontaGrossa-10.png', 'img/…"
      ]
     },
     "execution_count": 7,
     "metadata": {},
     "output_type": "execute_result"
    }
   ],
   "source": [
    "def bilateral_filter(img, d, sigma):\n",
    "    return cv.bilateralFilter(img, d, sigma, sigma)\n",
    "\n",
    "def test_bilateral(sample, d, sigma):\n",
    "    img = get_img(sample)\n",
    "    bl = bilateral_filter(img, d, sigma)\n",
    "    plt.imshow(bl, 'gray')\n",
    "    \n",
    "interactive(test_bilateral, sample=samples, d=(1, 10), sigma=(10, 250))"
   ]
  },
  {
   "cell_type": "markdown",
   "id": "6e5a09e6-b307-47b3-89ae-60b6d10be613",
   "metadata": {},
   "source": [
    "Agora, vamos definir a função `gamma_correction`, que realiza uma correção de gama para tentar iluminar ou escurecer, de maneira exponencial, a imagem. A ideia é revelar características dos espécimes que podem aparecer muito fracamente quanto em uma segunda tentativa de ofuscar ruídos causados pela textura da rocha, ressaltando também as bordas principalmente de fósseis carbonificados (mais escuros em relação à matriz). Caso não seja necessário, é sempre possível definir o valor do coeficiente gama para `1` e manter a imagem inalterada.\n",
    "\n",
    "Abaixo, podemos ver um teste da correção de gama, aplicada a um fóssil de [[algum fóssil]]."
   ]
  },
  {
   "cell_type": "code",
   "execution_count": 8,
   "id": "7754b68d-2fbc-4987-b541-73fc1fa5bad2",
   "metadata": {
    "tags": []
   },
   "outputs": [
    {
     "data": {
      "application/vnd.jupyter.widget-view+json": {
       "model_id": "ab0c67fd7c184b45a2622409ab7aef69",
       "version_major": 2,
       "version_minor": 0
      },
      "text/plain": [
       "interactive(children=(Dropdown(description='sample', options=('img/Catalogo_fosseis_PontaGrossa-10.png', 'img/…"
      ]
     },
     "execution_count": 8,
     "metadata": {},
     "output_type": "execute_result"
    }
   ],
   "source": [
    "def gamma_correction(img, gamma):\n",
    "    invGamma = 1 / gamma\n",
    "\n",
    "    table = [((i / 255) ** invGamma) * 255 for i in range(256)]\n",
    "    table = np.array(table, np.uint8)\n",
    "\n",
    "    return cv.LUT(img, table)\n",
    "\n",
    "def test_gamma(sample, gamma):\n",
    "    img = get_img(sample)\n",
    "    gc = gamma_correction(img, gamma)\n",
    "    plt.imshow(gc, 'gray')\n",
    "    \n",
    "interactive(test_gamma, sample=samples, gamma=FloatSlider(min=0.01, max=5, value=2.2))"
   ]
  },
  {
   "cell_type": "code",
   "execution_count": 9,
   "id": "3a7c38dd-2547-44db-ac74-54dcac8f1028",
   "metadata": {
    "tags": []
   },
   "outputs": [
    {
     "data": {
      "application/vnd.jupyter.widget-view+json": {
       "model_id": "a7dc73e27f01474b9b4625054c5b59f8",
       "version_major": 2,
       "version_minor": 0
      },
      "text/plain": [
       "interactive(children=(Dropdown(description='sample', options=('img/Catalogo_fosseis_PontaGrossa-10.png', 'img/…"
      ]
     },
     "execution_count": 9,
     "metadata": {},
     "output_type": "execute_result"
    }
   ],
   "source": [
    "def threshold(img, thresh):\n",
    "    return cv.threshold(img, thresh, 255, cv.THRESH_BINARY)[1]\n",
    "    \n",
    "def test_threshold(sample, thresh):\n",
    "    img = get_img(sample)\n",
    "    tsh = threshold(img, thresh)\n",
    "    fig, axes = plt.subplots(1, 2)\n",
    "    axes[0].imshow(img, 'gray')\n",
    "    axes[1].imshow(tsh, 'gray')\n",
    "    \n",
    "interactive(test_threshold, sample=samples, thresh=IntSlider(min=0, max=255, value=100))"
   ]
  },
  {
   "cell_type": "code",
   "execution_count": 10,
   "id": "7bb7d02f-879e-418f-90e1-acb70dc166bf",
   "metadata": {
    "tags": []
   },
   "outputs": [
    {
     "data": {
      "application/vnd.jupyter.widget-view+json": {
       "model_id": "87583eeb4d6b4bd3a4af7bd085c24c6b",
       "version_major": 2,
       "version_minor": 0
      },
      "text/plain": [
       "interactive(children=(Dropdown(description='sample', options=('img/Catalogo_fosseis_PontaGrossa-10.png', 'img/…"
      ]
     },
     "metadata": {},
     "output_type": "display_data"
    },
    {
     "data": {
      "text/plain": [
       "<function __main__.test_edges(sample, minimum, maximum, aperture, l2_gradient)>"
      ]
     },
     "execution_count": 10,
     "metadata": {},
     "output_type": "execute_result"
    }
   ],
   "source": [
    "def edges(img, minimum, maximum, aperture, l2_gradient):\n",
    "    return cv.Canny(img, minimum, maximum, apertureSize = aperture, L2gradient=l2_gradient)\n",
    "\n",
    "#     plt.subplot(121), plt.imshow(img, 'gray')\n",
    "#     plt.xticks([]), plt.yticks([])\n",
    "#     plt.title('Imagem original')\n",
    "\n",
    "#     plt.subplot(122), plt.imshow(edges, 'gray')\n",
    "#     plt.xticks([]), plt.yticks([])\n",
    "#     plt.title('Detecção de bordas')\n",
    "\n",
    "#     plt.show()\n",
    "    \n",
    "def test_edges(sample, minimum, maximum, aperture, l2_gradient):\n",
    "    img = get_img(sample)\n",
    "    edg = edges(img, minimum, maximum, aperture, l2_gradient)\n",
    "    plt.imshow(edg, 'gray')\n",
    "    \n",
    "interact(test_edges, sample=samples, minimum=(0, 255), maximum=(0, 255), aperture=IntSlider(min=3, max=7, step=2, value=3), l2_gradient=False)"
   ]
  },
  {
   "cell_type": "code",
   "execution_count": 19,
   "id": "28675b6e-c8ba-4ca7-b2fa-494f4d8a0317",
   "metadata": {
    "tags": []
   },
   "outputs": [
    {
     "data": {
      "application/vnd.jupyter.widget-view+json": {
       "model_id": "21ef8dd9ad4c45ea81cd8ea826a5191b",
       "version_major": 2,
       "version_minor": 0
      },
      "text/plain": [
       "interactive(children=(Dropdown(description='sample', options=('img/Catalogo_fosseis_PontaGrossa-10.png', 'img/…"
      ]
     },
     "metadata": {},
     "output_type": "display_data"
    },
    {
     "data": {
      "text/plain": [
       "<function __main__.generate(sample, d, sigma, gamma, thresh, edge_min, edge_max, aperture, l2_gradient)>"
      ]
     },
     "execution_count": 19,
     "metadata": {},
     "output_type": "execute_result"
    }
   ],
   "source": [
    "def invert(img):\n",
    "    return (255-img)\n",
    "\n",
    "def generate(sample, d, sigma, gamma, thresh, edge_min, edge_max, aperture, l2_gradient):\n",
    "    img = get_img(sample)\n",
    "    bl = bilateral_filter(img, d, sigma)\n",
    "    gamma = gamma_correction(bl, gamma)\n",
    "    tsh = threshold(gamma, thresh)    \n",
    "    edg = edges(gamma, edge_min, edge_max, aperture, l2_gradient)\n",
    "    \n",
    "    plt.subplot(231)\n",
    "    plt.title('Imagem Original')\n",
    "    plt.xticks([]), plt.yticks([])\n",
    "    plt.imshow(img, 'gray')\n",
    "    \n",
    "    plt.subplot(232)\n",
    "    plt.title('Filtro Bilateral')\n",
    "    plt.xticks([]), plt.yticks([])\n",
    "    plt.imshow(bl, 'gray')\n",
    "    \n",
    "    plt.subplot(233)\n",
    "    plt.title('Gama aplicado')\n",
    "    plt.xticks([]), plt.yticks([])\n",
    "    plt.imshow(gamma, 'gray')\n",
    "    \n",
    "    plt.subplot(223)\n",
    "    plt.title('Gama + Threshold (Invertido)')\n",
    "    plt.xticks([]), plt.yticks([])\n",
    "    plt.imshow(invert(tsh), 'gray')\n",
    "    \n",
    "    plt.subplot(224)\n",
    "    plt.title('Gama + Canny')\n",
    "    plt.xticks([]), plt.yticks([])\n",
    "    plt.imshow(edg, 'gray')\n",
    "    \n",
    "interact(\n",
    "    generate,\n",
    "    sample=samples,\n",
    "    d=(1, 10),\n",
    "    sigma=(5, 250),\n",
    "    gamma=FloatSlider(min=0.01, max=5, value=2.2),\n",
    "    thresh=(0, 255),\n",
    "    edge_min=IntSlider(min=0, max=255, value=100),\n",
    "    edge_max=IntSlider(min=0, max=255, value=150),\n",
    "    aperture=IntSlider(min=3, max=7, step=2, value=3),\n",
    "    l2_gradient=True\n",
    ")"
   ]
  }
 ],
 "metadata": {
  "kernelspec": {
   "display_name": "Python 3 (ipykernel)",
   "language": "python",
   "name": "python3"
  },
  "language_info": {
   "codemirror_mode": {
    "name": "ipython",
    "version": 3
   },
   "file_extension": ".py",
   "mimetype": "text/x-python",
   "name": "python",
   "nbconvert_exporter": "python",
   "pygments_lexer": "ipython3",
   "version": "3.9.5"
  }
 },
 "nbformat": 4,
 "nbformat_minor": 5
}
